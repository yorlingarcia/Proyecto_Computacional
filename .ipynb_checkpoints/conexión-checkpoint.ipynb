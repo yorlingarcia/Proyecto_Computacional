{
 "cells": [
  {
   "cell_type": "code",
   "execution_count": 1,
   "metadata": {},
   "outputs": [],
   "source": [
    "import numpy as np\n",
    "import sympy as sp\n",
    "from math import sin\n",
    "from IPython.display import Latex, display"
   ]
  },
  {
   "cell_type": "code",
   "execution_count": 2,
   "metadata": {},
   "outputs": [
    {
     "name": "stdout",
     "output_type": "stream",
     "text": [
      "--------metrica----------\n",
      "Matrix([[-exp(2*a(r)), 0, 0, 0], [0, exp(2*b(r)), 0, 0], [0, 0, r**2, 0], [0, 0, 0, r**2*sin(theta)**2]])\n",
      "-------------------------\n"
     ]
    }
   ],
   "source": [
    "print('--------metrica----------')\n",
    "D = 3\n",
    "# r, theta variables simbolicas\n",
    "metrica = sp.Matrix([['-exp(2*a(r))' , '0' , '0', '0'],['0', 'exp(2*b(r))', '0', '0'],['0', '0', 'r**2', '0'],\n",
    "                    ['0', '0', '0', 'r**2*(sin(theta))**2']])\n",
    "print(metrica)\n",
    "print('-------------------------')"
   ]
  },
  {
   "cell_type": "code",
   "execution_count": 3,
   "metadata": {},
   "outputs": [],
   "source": [
    "metricainv = metrica.inv()\n",
    "gamma = np.zeros((D+1,D+1,D+1),list) # simbolos de christoffel\n",
    "x = ['t','r','theta','phi']"
   ]
  },
  {
   "cell_type": "code",
   "execution_count": 4,
   "metadata": {},
   "outputs": [],
   "source": [
    "sum = 0\n",
    "for i in range(D+1): #lambda\n",
    "    for j in range(D+1): # mu\n",
    "        for k in range(D+1): # nu\n",
    "            for l in range(D+1): # sigma\n",
    "                sum += 0.5*metricainv[i,l]*(sp.diff(metrica[k,l],x[j]) \n",
    "                                            + sp.diff(metrica[j,l],x[k]) - sp.diff(metrica[j,k],x[l]))\n",
    "            gamma[i][j][k] = sum\n",
    "            sum = 0"
   ]
  },
  {
   "cell_type": "code",
   "execution_count": 5,
   "metadata": {},
   "outputs": [
    {
     "name": "stdout",
     "output_type": "stream",
     "text": [
      "[[[0 1.0*Derivative(a(r), r) 0 0]\n",
      "  [1.0*Derivative(a(r), r) 0 0 0]\n",
      "  [0 0 0 0]\n",
      "  [0 0 0 0]]\n",
      "\n",
      " [[1.0*exp(2*a(r))*exp(-2*b(r))*Derivative(a(r), r) 0 0 0]\n",
      "  [0 1.0*Derivative(b(r), r) 0 0]\n",
      "  [0 0 -1.0*r*exp(-2*b(r)) 0]\n",
      "  [0 0 0 -1.0*r*exp(-2*b(r))*sin(theta)**2]]\n",
      "\n",
      " [[0 0 0 0]\n",
      "  [0 0 1.0/r 0]\n",
      "  [0 1.0/r 0 0]\n",
      "  [0 0 0 -1.0*sin(theta)*cos(theta)]]\n",
      "\n",
      " [[0 0 0 0]\n",
      "  [0 0 0 1.0/r]\n",
      "  [0 0 0 1.0*cos(theta)/sin(theta)]\n",
      "  [0 1.0/r 1.0*cos(theta)/sin(theta) 0]]]\n"
     ]
    }
   ],
   "source": [
    "print(gamma)"
   ]
  },
  {
   "cell_type": "code",
   "execution_count": 6,
   "metadata": {},
   "outputs": [
    {
     "name": "stdout",
     "output_type": "stream",
     "text": [
      "gamma( t t r ) =  1.0*Derivative(a(r), r)\n",
      "gamma( t r t ) =  1.0*Derivative(a(r), r)\n",
      "gamma( r t t ) =  1.0*exp(2*a(r))*exp(-2*b(r))*Derivative(a(r), r)\n",
      "gamma( r r r ) =  1.0*Derivative(b(r), r)\n",
      "gamma( r theta theta ) =  -1.0*r*exp(-2*b(r))\n",
      "gamma( r phi phi ) =  -1.0*r*exp(-2*b(r))*sin(theta)**2\n",
      "gamma( theta r theta ) =  1.0/r\n",
      "gamma( theta theta r ) =  1.0/r\n",
      "gamma( theta phi phi ) =  -1.0*sin(theta)*cos(theta)\n",
      "gamma( phi r phi ) =  1.0/r\n",
      "gamma( phi theta phi ) =  1.0*cos(theta)/sin(theta)\n",
      "gamma( phi phi r ) =  1.0/r\n",
      "gamma( phi phi theta ) =  1.0*cos(theta)/sin(theta)\n"
     ]
    }
   ],
   "source": [
    "for i in range(D+1):\n",
    "    for j in range(D+1):\n",
    "        for k in range(D+1): \n",
    "            if gamma[i,j,k] != 0: \n",
    "                print(\"gamma(\",x[i], x[j], x[k],\") = \",gamma[i,j,k])"
   ]
  },
  {
   "cell_type": "code",
   "execution_count": 7,
   "metadata": {},
   "outputs": [],
   "source": [
    "riemann = np.zeros((D+1,D+1,D+1,D+1),list) # tensor de riemann"
   ]
  },
  {
   "cell_type": "code",
   "execution_count": 8,
   "metadata": {},
   "outputs": [
    {
     "name": "stdout",
     "output_type": "stream",
     "text": [
      "[[[[0 0 0 0]\n",
      "   [0 0 0 0]\n",
      "   [0 0 0 0]\n",
      "   [0 0 0 0]]\n",
      "\n",
      "  [[0\n",
      "    -1.0*Derivative(a(r), r)**2 + 1.0*Derivative(a(r), r)*Derivative(b(r), r) - 1.0*Derivative(a(r), (r, 2))\n",
      "    0 0]\n",
      "   [1.0*Derivative(a(r), r)**2 - 1.0*Derivative(a(r), r)*Derivative(b(r), r) + 1.0*Derivative(a(r), (r, 2))\n",
      "    0 0 0]\n",
      "   [0 0 0 0]\n",
      "   [0 0 0 0]]\n",
      "\n",
      "  [[0 0 -1.0*r*exp(-2*b(r))*Derivative(a(r), r) 0]\n",
      "   [0 0 0 0]\n",
      "   [1.0*r*exp(-2*b(r))*Derivative(a(r), r) 0 0 0]\n",
      "   [0 0 0 0]]\n",
      "\n",
      "  [[0 0 0 -1.0*r*exp(-2*b(r))*sin(theta)**2*Derivative(a(r), r)]\n",
      "   [0 0 0 0]\n",
      "   [0 0 0 0]\n",
      "   [1.0*r*exp(-2*b(r))*sin(theta)**2*Derivative(a(r), r) 0 0 0]]]\n",
      "\n",
      "\n",
      " [[[0\n",
      "    -1.0*exp(2*a(r))*exp(-2*b(r))*Derivative(a(r), r)**2 + 1.0*exp(2*a(r))*exp(-2*b(r))*Derivative(a(r), r)*Derivative(b(r), r) - 1.0*exp(2*a(r))*exp(-2*b(r))*Derivative(a(r), (r, 2))\n",
      "    0 0]\n",
      "   [1.0*exp(2*a(r))*exp(-2*b(r))*Derivative(a(r), r)**2 - 1.0*exp(2*a(r))*exp(-2*b(r))*Derivative(a(r), r)*Derivative(b(r), r) + 1.0*exp(2*a(r))*exp(-2*b(r))*Derivative(a(r), (r, 2))\n",
      "    0 0 0]\n",
      "   [0 0 0 0]\n",
      "   [0 0 0 0]]\n",
      "\n",
      "  [[0 0 0 0]\n",
      "   [0 0 0 0]\n",
      "   [0 0 0 0]\n",
      "   [0 0 0 0]]\n",
      "\n",
      "  [[0 0 0 0]\n",
      "   [0 0 1.0*r*exp(-2*b(r))*Derivative(b(r), r) 0]\n",
      "   [0 -1.0*r*exp(-2*b(r))*Derivative(b(r), r) 0 0]\n",
      "   [0 0 0 0]]\n",
      "\n",
      "  [[0 0 0 0]\n",
      "   [0 0 0 1.0*r*exp(-2*b(r))*sin(theta)**2*Derivative(b(r), r)]\n",
      "   [0 0 0 0]\n",
      "   [0 -1.0*r*exp(-2*b(r))*sin(theta)**2*Derivative(b(r), r) 0 0]]]\n",
      "\n",
      "\n",
      " [[[0 0 -1.0*exp(2*a(r))*exp(-2*b(r))*Derivative(a(r), r)/r 0]\n",
      "   [0 0 0 0]\n",
      "   [1.0*exp(2*a(r))*exp(-2*b(r))*Derivative(a(r), r)/r 0 0 0]\n",
      "   [0 0 0 0]]\n",
      "\n",
      "  [[0 0 0 0]\n",
      "   [0 0 -1.0*Derivative(b(r), r)/r 0]\n",
      "   [0 1.0*Derivative(b(r), r)/r 0 0]\n",
      "   [0 0 0 0]]\n",
      "\n",
      "  [[0 0 0 0]\n",
      "   [0 0 0 0]\n",
      "   [0 0 0 0]\n",
      "   [0 0 0 0]]\n",
      "\n",
      "  [[0 0 0 0]\n",
      "   [0 0 0 0]\n",
      "   [0 0 0 1.0*sin(theta)**2 - 1.0*exp(-2*b(r))*sin(theta)**2]\n",
      "   [0 0 -1.0*sin(theta)**2 + 1.0*exp(-2*b(r))*sin(theta)**2 0]]]\n",
      "\n",
      "\n",
      " [[[0 0 0 -1.0*exp(2*a(r))*exp(-2*b(r))*Derivative(a(r), r)/r]\n",
      "   [0 0 0 0]\n",
      "   [0 0 0 0]\n",
      "   [1.0*exp(2*a(r))*exp(-2*b(r))*Derivative(a(r), r)/r 0 0 0]]\n",
      "\n",
      "  [[0 0 0 0]\n",
      "   [0 0 0 -1.0*Derivative(b(r), r)/r]\n",
      "   [0 0 0 0]\n",
      "   [0 1.0*Derivative(b(r), r)/r 0 0]]\n",
      "\n",
      "  [[0 0 0 0]\n",
      "   [0 0 0 0]\n",
      "   [0 0 0 -1.0 + 1.0*exp(-2*b(r))]\n",
      "   [0 0 1.0 - 1.0*exp(-2*b(r)) 0]]\n",
      "\n",
      "  [[0 0 0 0]\n",
      "   [0 0 0 0]\n",
      "   [0 0 0 0]\n",
      "   [0 0 0 0]]]]\n"
     ]
    }
   ],
   "source": [
    "sum = 0\n",
    "for rho in range(D+1): #rho\n",
    "    for sigmma in range(D+1): # sigmma\n",
    "        for mu in range(D+1): # mu\n",
    "            for nu in range(D+1): # nu\n",
    "                for l in range(D+1): # lambda\n",
    "                    sum += gamma[rho,mu,l]*gamma[l,nu,sigmma] - gamma[rho,nu,l]*gamma[l,mu,sigmma]\n",
    "                riemann[rho,sigmma,mu,nu]=sum+sp.diff(gamma[rho,nu,sigmma],x[mu])-sp.diff(gamma[rho,mu,sigmma],x[nu])\n",
    "                sum = 0\n",
    "                \n",
    "print(riemann)"
   ]
  },
  {
   "cell_type": "code",
   "execution_count": 9,
   "metadata": {},
   "outputs": [
    {
     "name": "stdout",
     "output_type": "stream",
     "text": [
      "riemann( t r t r ) =  -1.0*Derivative(a(r), r)**2 + 1.0*Derivative(a(r), r)*Derivative(b(r), r) - 1.0*Derivative(a(r), (r, 2))\n",
      "riemann( t r r t ) =  1.0*Derivative(a(r), r)**2 - 1.0*Derivative(a(r), r)*Derivative(b(r), r) + 1.0*Derivative(a(r), (r, 2))\n",
      "riemann( t theta t theta ) =  -1.0*r*exp(-2*b(r))*Derivative(a(r), r)\n",
      "riemann( t theta theta t ) =  1.0*r*exp(-2*b(r))*Derivative(a(r), r)\n",
      "riemann( t phi t phi ) =  -1.0*r*exp(-2*b(r))*sin(theta)**2*Derivative(a(r), r)\n",
      "riemann( t phi phi t ) =  1.0*r*exp(-2*b(r))*sin(theta)**2*Derivative(a(r), r)\n",
      "riemann( r t t r ) =  -1.0*exp(2*a(r))*exp(-2*b(r))*Derivative(a(r), r)**2 + 1.0*exp(2*a(r))*exp(-2*b(r))*Derivative(a(r), r)*Derivative(b(r), r) - 1.0*exp(2*a(r))*exp(-2*b(r))*Derivative(a(r), (r, 2))\n",
      "riemann( r t r t ) =  1.0*exp(2*a(r))*exp(-2*b(r))*Derivative(a(r), r)**2 - 1.0*exp(2*a(r))*exp(-2*b(r))*Derivative(a(r), r)*Derivative(b(r), r) + 1.0*exp(2*a(r))*exp(-2*b(r))*Derivative(a(r), (r, 2))\n",
      "riemann( r theta r theta ) =  1.0*r*exp(-2*b(r))*Derivative(b(r), r)\n",
      "riemann( r theta theta r ) =  -1.0*r*exp(-2*b(r))*Derivative(b(r), r)\n",
      "riemann( r phi r phi ) =  1.0*r*exp(-2*b(r))*sin(theta)**2*Derivative(b(r), r)\n",
      "riemann( r phi phi r ) =  -1.0*r*exp(-2*b(r))*sin(theta)**2*Derivative(b(r), r)\n",
      "riemann( theta t t theta ) =  -1.0*exp(2*a(r))*exp(-2*b(r))*Derivative(a(r), r)/r\n",
      "riemann( theta t theta t ) =  1.0*exp(2*a(r))*exp(-2*b(r))*Derivative(a(r), r)/r\n",
      "riemann( theta r r theta ) =  -1.0*Derivative(b(r), r)/r\n",
      "riemann( theta r theta r ) =  1.0*Derivative(b(r), r)/r\n",
      "riemann( theta phi theta phi ) =  1.0*sin(theta)**2 - 1.0*exp(-2*b(r))*sin(theta)**2\n",
      "riemann( theta phi phi theta ) =  -1.0*sin(theta)**2 + 1.0*exp(-2*b(r))*sin(theta)**2\n",
      "riemann( phi t t phi ) =  -1.0*exp(2*a(r))*exp(-2*b(r))*Derivative(a(r), r)/r\n",
      "riemann( phi t phi t ) =  1.0*exp(2*a(r))*exp(-2*b(r))*Derivative(a(r), r)/r\n",
      "riemann( phi r r phi ) =  -1.0*Derivative(b(r), r)/r\n",
      "riemann( phi r phi r ) =  1.0*Derivative(b(r), r)/r\n",
      "riemann( phi theta theta phi ) =  -1.0 + 1.0*exp(-2*b(r))\n",
      "riemann( phi theta phi theta ) =  1.0 - 1.0*exp(-2*b(r))\n"
     ]
    }
   ],
   "source": [
    "for i in range(D+1):\n",
    "    for j in range(D+1):\n",
    "        for k in range(D+1):\n",
    "            for l in range(D+1):\n",
    "                if riemann[i,j,k,l] != 0: \n",
    "                    print(\"riemann(\",x[i], x[j], x[k], x[l],\") = \",riemann[i,j,k,l])"
   ]
  },
  {
   "cell_type": "code",
   "execution_count": 10,
   "metadata": {},
   "outputs": [
    {
     "name": "stdout",
     "output_type": "stream",
     "text": [
      "--------metrica schwarzschild----------\n",
      "Matrix([[-2*G*M/r + 1, 0, 0, 0], [0, 1/(-2*G*M/r + 1), 0, 0], [0, 0, r**2, 0], [0, 0, 0, r**2*sin(theta)**2]])\n",
      "-------------------------\n",
      "gamma( t t r ) =  1.0*G*M/(r**2*(-2*G*M/r + 1))\n",
      "gamma( t r t ) =  1.0*G*M/(r**2*(-2*G*M/r + 1))\n",
      "gamma( r t t ) =  -2*G*M*(-1.0*G*M/r + 0.5)/r**2\n",
      "gamma( r r r ) =  -2*G*M*(-1.0*G*M/r + 0.5)/(r**2*(-2*G*M/r + 1)**2)\n",
      "gamma( r theta theta ) =  -2*r*(-1.0*G*M/r + 0.5)\n",
      "gamma( r phi phi ) =  -2*r*(-1.0*G*M/r + 0.5)*sin(theta)**2\n",
      "gamma( theta r theta ) =  1.0/r\n",
      "gamma( theta theta r ) =  1.0/r\n",
      "gamma( theta phi phi ) =  -1.0*sin(theta)*cos(theta)\n",
      "gamma( phi r phi ) =  1.0/r\n",
      "gamma( phi theta phi ) =  1.0*cos(theta)/sin(theta)\n",
      "gamma( phi phi r ) =  1.0/r\n",
      "gamma( phi phi theta ) =  1.0*cos(theta)/sin(theta)\n"
     ]
    }
   ],
   "source": [
    "print('--------metrica schwarzschild----------')\n",
    "D = 3\n",
    "# r, theta variables simbolicas\n",
    "metrica = sp.Matrix([['1-2*G*M/r' , '0' , '0', '0'],['0', '(1-2*G*M/r)**(-1)', '0', '0'],['0', '0', 'r**2', '0'],\n",
    "                    ['0', '0', '0', 'r**2*(sin(theta))**2']])\n",
    "print(metrica)\n",
    "print('-------------------------')\n",
    "\n",
    "metricainv = metrica.inv()\n",
    "gamma = np.zeros((D+1,D+1,D+1),list) # simbolos de christoffel\n",
    "x = ['t','r','theta','phi']\n",
    "\n",
    "sum = 0\n",
    "for i in range(D+1): #lambda\n",
    "    for j in range(D+1): # mu\n",
    "        for k in range(D+1): # nu\n",
    "            for l in range(D+1): # sigma\n",
    "                sum += 0.5*metricainv[i,l]*(sp.diff(metrica[k,l],x[j]) \n",
    "                                            + sp.diff(metrica[j,l],x[k]) - sp.diff(metrica[j,k],x[l]))\n",
    "            gamma[i][j][k] = sum\n",
    "            sum = 0\n",
    "for i in range(D+1):\n",
    "    for j in range(D+1):\n",
    "        for k in range(D+1): \n",
    "            if gamma[i,j,k] != 0: \n",
    "                print(\"gamma(\",x[i], x[j], x[k],\") = \",gamma[i,j,k])\n"
   ]
  },
  {
   "cell_type": "code",
   "execution_count": 11,
   "metadata": {},
   "outputs": [
    {
     "data": {
      "text/latex": [
       "\\begin{equation}\\Gamma\\end{equation}"
      ],
      "text/plain": [
       "<IPython.core.display.Latex object>"
      ]
     },
     "metadata": {},
     "output_type": "display_data"
    }
   ],
   "source": [
    "display(Latex('\\\\begin{equation}' + sp.latex('\\\\Gamma') + '\\\\end{equation}'))  "
   ]
  },
  {
   "cell_type": "code",
   "execution_count": 12,
   "metadata": {},
   "outputs": [
    {
     "name": "stdout",
     "output_type": "stream",
     "text": [
      "{{}\n"
     ]
    }
   ],
   "source": [
    "string = str(gamma[0,0,1])\n",
    "string = '{'\n",
    "for  i in range(len(string)):\n",
    "    string += string[i]\n",
    "string += '}'\n",
    "print(string)"
   ]
  },
  {
   "cell_type": "code",
   "execution_count": 13,
   "metadata": {},
   "outputs": [
    {
     "data": {
      "image/png": "[encoded data removed]",
      "text/latex": [
       "$$\\int \\sin{\\left (ww \\right )}\\, dww$$"
      ],
      "text/plain": [
       "⌠              \n",
       "⎮ sin(ww) d(ww)\n",
       "⌡              "
      ]
     },
     "metadata": {},
     "output_type": "display_data"
    }
   ],
   "source": [
    "from sympy.interactive import printing\n",
    "printing.init_printing(use_latex = True)\n",
    "\n",
    "func = sp.Function('func')\n",
    "ww = sp.Symbol('ww')\n",
    "func = sp.sin(ww)\n",
    "inte = sp.Integral(func,ww)\n",
    "display(inte)"
   ]
  },
  {
   "cell_type": "code",
   "execution_count": 14,
   "metadata": {},
   "outputs": [
    {
     "data": {
      "text/latex": [
       "\\begin{equation}\\sqrt{}\\end{equation}"
      ],
      "text/plain": [
       "<IPython.core.display.Latex object>"
      ]
     },
     "metadata": {},
     "output_type": "display_data"
    }
   ],
   "source": [
    "display(Latex('\\\\begin{equation}' + sp.latex('\\sqrt{}') + '\\\\end{equation}'))  "
   ]
  }
 ],
 "metadata": {
  "kernelspec": {
   "display_name": "Python 3",
   "language": "python",
   "name": "python3"
  },
  "language_info": {
   "codemirror_mode": {
    "name": "ipython",
    "version": 3
   },
   "file_extension": ".py",
   "mimetype": "text/x-python",
   "name": "python",
   "nbconvert_exporter": "python",
   "pygments_lexer": "ipython3",
   "version": "3.7.3"
  }
 },
 "nbformat": 4,
 "nbformat_minor": 2
}
